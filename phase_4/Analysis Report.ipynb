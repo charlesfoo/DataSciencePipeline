{
 "cells": [
  {
   "cell_type": "markdown",
   "metadata": {},
   "source": [
    "# Analysis Report\n",
    "## Files\n",
    "setC.csv = data obtained from the blocking stage  \n",
    "sampleA.csv = 800 rows that are sample with (seed = 10) from setC"
   ]
  },
  {
   "cell_type": "code",
   "execution_count": 2,
   "metadata": {
    "collapsed": false
   },
   "outputs": [],
   "source": [
    "import csv\n",
    "\n",
    "setC = None\n",
    "with open('labelled_year.csv', 'r') as file:\n",
    "    setA = list(csv.reader(file))\n",
    "    setA = setA[1:] # Remove header\n",
    "    setB = setA[375:] # Evaluation set\n",
    "    setA = setA[:375] # Development set\n",
    "\n",
    "class attr:\n",
    "    label = 0\n",
    "    _id = 1\n",
    "    ltable_Id = 2\n",
    "    rtable_Id = 3\n",
    "    ltable_Title = 4\n",
    "    ltable_Category = 5\n",
    "    ltable_Duration = 6\n",
    "    ltable_Rating = 7\n",
    "    ltable_Rating_Count = 8\n",
    "    ltable_Director = 9 \n",
    "    ltable_Year = 10\n",
    "    rtable_Title = 11\n",
    "    rtable_Category = 12\n",
    "    rtable_Duration = 13\n",
    "    rtable_Rating = 14\n",
    "    rtable_Rating_Count = 15\n",
    "    rtable_Director = 16\n",
    "    rtable_Year = 17\n",
    "#    setC.csv\n",
    "#     _id = 0\n",
    "#     ltable_Id = 1\n",
    "#     rtable_Id = 2\n",
    "#     ltable_Title = 3\n",
    "#     ltable_Category = 4\n",
    "#     ltable_Duration = 5\n",
    "#     ltable_Rating = 6\n",
    "#     ltable_Rating_Count = 7\n",
    "#     ltable_Director = 8\n",
    "#     rtable_Title = 9\n",
    "#     rtable_Category = 10\n",
    "#     rtable_Duration = 11\n",
    "#     rtable_Rating = 12\n",
    "#     rtable_Rating_Count =13 \n",
    "#     rtable_Director = 14\n",
    "    strings = ['label', '_id', 'ltable_Id', 'rtable_Id', 'ltable_Title', 'ltable_Category', \n",
    "               'ltable_Duration', 'ltable_Rating', 'ltable_Rating_Count', 'ltable_Director', \n",
    "               'ltable_Year', 'rtable_Title', 'rtable_Category', 'rtable_Duration', 'rtable_Rating',\n",
    "               'rtable_Rating_Count', 'rtable_Director', 'rtable_Year']\n",
    "#    check for setC.csv\n",
    "#     strings = ['_id', 'ltable_Id', 'rtable_Id', 'ltable_Title', 'ltable_Category', \n",
    "#                'ltable_Duration', 'ltable_Rating', 'ltable_Rating_Count', 'ltable_Director', \n",
    "#                'rtable_Title', 'rtable_Category', 'rtable_Duration', 'rtable_Rating', 'rtable_Rating_Count',\n",
    "#                'rtable_Director']"
   ]
  },
  {
   "cell_type": "code",
   "execution_count": 3,
   "metadata": {
    "collapsed": false
   },
   "outputs": [],
   "source": [
    "# Calculate number of null value for each attributes\n",
    "def check_null(setx):\n",
    "    num_null = [0 for i in range(18)]\n",
    "    \n",
    "    for row in setx:\n",
    "        for pos, val in enumerate(row):\n",
    "            if not val:\n",
    "                num_null[pos] += 1\n",
    "    \n",
    "    for pos, val in enumerate(num_null):\n",
    "        print(attr.strings[pos] + \": \" + str(val))"
   ]
  },
  {
   "cell_type": "code",
   "execution_count": 4,
   "metadata": {
    "collapsed": false
   },
   "outputs": [
    {
     "name": "stdout",
     "output_type": "stream",
     "text": [
      "label: 0\n",
      "_id: 0\n",
      "ltable_Id: 0\n",
      "rtable_Id: 0\n",
      "ltable_Title: 0\n",
      "ltable_Category: 5\n",
      "ltable_Duration: 0\n",
      "ltable_Rating: 40\n",
      "ltable_Rating_Count: 40\n",
      "ltable_Director: 113\n",
      "ltable_Year: 27\n",
      "rtable_Title: 0\n",
      "rtable_Category: 18\n",
      "rtable_Duration: 63\n",
      "rtable_Rating: 98\n",
      "rtable_Rating_Count: 0\n",
      "rtable_Director: 45\n",
      "rtable_Year: 3\n"
     ]
    }
   ],
   "source": [
    "check_null(setA)"
   ]
  },
  {
   "cell_type": "code",
   "execution_count": 5,
   "metadata": {
    "collapsed": true
   },
   "outputs": [],
   "source": [
    "# filereader=csv.reader(open('setC.csv'),delimiter=',')\n",
    "# next(filereader)\n",
    "# check_null(filereader)\n",
    "# results\n",
    "# _id: 0\n",
    "# ltable_Id: 0\n",
    "# rtable_Id: 0\n",
    "# ltable_Title: 0\n",
    "# ltable_Category: 273\n",
    "# ltable_Duration: 0\n",
    "# ltable_Rating: 1570\n",
    "# ltable_Rating_Count: 1570\n",
    "# ltable_Director: 4114\n",
    "# rtable_Title: 0\n",
    "# rtable_Category: 566\n",
    "# rtable_Duration: 2274\n",
    "# rtable_Rating: 3228\n",
    "# rtable_Rating_Count: 0\n",
    "# rtable_Director: 1613"
   ]
  },
  {
   "cell_type": "code",
   "execution_count": 6,
   "metadata": {
    "collapsed": true
   },
   "outputs": [],
   "source": [
    "# Define a function that scan the whole table and remove null value based on pos\n",
    "def fill_null(setx, pos, val):\n",
    "    for row in setx:\n",
    "        if not row[pos]:\n",
    "            row[pos] = val"
   ]
  },
  {
   "cell_type": "code",
   "execution_count": 7,
   "metadata": {
    "collapsed": false
   },
   "outputs": [],
   "source": [
    "# Values with null item, size of setA = 800\n",
    "# print(\"SetA\")\n",
    "# check_null(setA)\n",
    "fill_null(setA, attr.ltable_Rating, 0)\n",
    "fill_null(setA, attr.rtable_Rating, 0)\n",
    "fill_null(setA, attr.ltable_Duration, 0)\n",
    "fill_null(setA, attr.rtable_Duration, 0)\n",
    "fill_null(setA, attr.ltable_Rating_Count, 0)\n",
    "fill_null(setA, attr.rtable_Rating_Count, 0)\n",
    "fill_null(setA, attr.ltable_Year, 0)\n",
    "fill_null(setA, attr.rtable_Year, 0)\n",
    "# print(\"SetB\")\n",
    "# check_null(setB)\n",
    "fill_null(setB, attr.ltable_Rating, 0)\n",
    "fill_null(setB, attr.rtable_Rating, 0)\n",
    "fill_null(setB, attr.ltable_Duration, 0)\n",
    "fill_null(setB, attr.rtable_Duration, 0)\n",
    "fill_null(setB, attr.ltable_Rating_Count, 0)\n",
    "fill_null(setB, attr.rtable_Rating_Count, 0)\n",
    "fill_null(setB, attr.ltable_Year, 0)\n",
    "fill_null(setB, attr.rtable_Year, 0)"
   ]
  },
  {
   "cell_type": "markdown",
   "metadata": {},
   "source": [
    "## Begin Matching\n",
    "Start by converting each labelled row into a feature vector"
   ]
  },
  {
   "cell_type": "code",
   "execution_count": 8,
   "metadata": {
    "collapsed": false
   },
   "outputs": [],
   "source": [
    "from sklearn import tree, ensemble, linear_model, svm, naive_bayes\n",
    "from sklearn.model_selection import KFold\n",
    "from py_stringmatching.tokenizer.delimiter_tokenizer import DelimiterTokenizer\n",
    "from py_stringmatching.similarity_measure.levenshtein import Levenshtein\n",
    "from py_stringmatching.similarity_measure.jaccard import Jaccard\n",
    "from py_stringmatching.tokenizer.delimiter_tokenizer import DelimiterTokenizer\n",
    "\n",
    "delim_tkn = DelimiterTokenizer()\n",
    "lev = Levenshtein()\n",
    "delim_tok=DelimiterTokenizer(',')\n",
    "jac=Jaccard()\n",
    "\n",
    "\n",
    "class_group = ['d', 'l', 'r', 's', 'n','l_svc']\n",
    "classifiers = {'d':tree.DecisionTreeClassifier(), 'l':linear_model.LogisticRegression(), 'r':ensemble.RandomForestClassifier(), 's':svm.SVC(), 'n':naive_bayes.GaussianNB(),'l_svc':svm.LinearSVC()}\n",
    "names = {'d':'DECISION TREE', 'l':'LOGISTIC REGRESSION', 'r':'RANDOM FOREST', 's':'SUPPORT VECTOR MACHING', 'n':'NAIVE BAYES', 'l_svc':'LINEAR SUPPORT VECTOR CLASSIFICATION'}"
   ]
  },
  {
   "cell_type": "code",
   "execution_count": 9,
   "metadata": {
    "collapsed": false
   },
   "outputs": [],
   "source": [
    "def title_match(x, y):\n",
    "    return lev.get_raw_score(x, y)\n",
    "\n",
    "def category_match(x, y):\n",
    "    return lev.get_raw_score(x, y)\n",
    "    \n",
    "def rating_match(x, y):\n",
    "    return abs(float(x) - float(y))\n",
    "    \n",
    "def director_match(x, y):\n",
    "    return lev.get_raw_score(x, y)\n",
    "\n",
    "def rating_count_match(x, y):\n",
    "    return abs(float(x) - float(y))\n",
    "\n",
    "def duration_match(x, y):\n",
    "    return abs(float(x) - float(y))"
   ]
  },
  {
   "cell_type": "code",
   "execution_count": 10,
   "metadata": {
    "collapsed": true
   },
   "outputs": [],
   "source": [
    "# Given a set, return the feature vectors and label\n",
    "def get_feature(setx):\n",
    "    feature = []\n",
    "    label = []\n",
    "    \n",
    "    for row in setx:\n",
    "        label += [row[attr.label]]\n",
    "        \n",
    "        x_0 = title_match(row[attr.ltable_Title], row[attr.rtable_Title])\n",
    "        x_1 = category_match(row[attr.ltable_Category], row[attr.rtable_Category])\n",
    "        x_2 = rating_match(row[attr.ltable_Rating], row[attr.rtable_Rating])\n",
    "        x_3 = director_match(row[attr.ltable_Director], row[attr.rtable_Director])\n",
    "        x_4 = duration_match(row[attr.ltable_Duration], row[attr.rtable_Duration])\n",
    "        x_5 = rating_count_match(row[attr.ltable_Rating_Count], row[attr.rtable_Rating_Count])\n",
    "        \n",
    "         #feature=[[1,3,6],[2,9,7]]\n",
    "        feature += [[x_0, x_1, x_2, x_3]]\n",
    "        \n",
    "    return feature, label\n",
    "    "
   ]
  },
  {
   "cell_type": "code",
   "execution_count": 11,
   "metadata": {
    "collapsed": true
   },
   "outputs": [],
   "source": [
    "def get_ltable(setx):\n",
    "     #row[3:5] will return a list. [\"hi\",\"z\",\"ok\"]\n",
    "    return [[row[attr.ltable_Id]] + row[attr.ltable_Title:attr.ltable_Year + 1]for row in setx]\n",
    "\n",
    "def get_rtable(setx):\n",
    "    return [[row[attr.rtable_Id]] + row[attr.rtable_Title:]for row in setx]\n",
    "\n",
    "def get_label(setx):\n",
    "    return [row[attr.label] for row in setx]"
   ]
  },
  {
   "cell_type": "code",
   "execution_count": 12,
   "metadata": {
    "collapsed": false
   },
   "outputs": [],
   "source": [
    "# Given a list of real result and predicted result, calculate precision, recall and F1\n",
    "def get_F1(real, predicted):\n",
    "    true_positive = 0\n",
    "    true_negative = 0\n",
    "    false_positive = 0\n",
    "    false_negative = 0\n",
    "    \n",
    "    for pos,res in enumerate(predicted):\n",
    "        if res == real[pos]:\n",
    "            if res == '1':\n",
    "                true_positive += 1\n",
    "            else:\n",
    "                true_negative += 1\n",
    "        else:\n",
    "            if res == '1':\n",
    "                false_positive += 1\n",
    "            else:\n",
    "                false_negative += 1\n",
    "    \n",
    "    # If true_positive, false_positive or false_negative causes zero error: set precision, recall and F1 to zero\n",
    "    try:\n",
    "        precision = true_positive / (true_positive + false_positive)\n",
    "        recall = true_positive / (true_positive + false_negative)\n",
    "        F1 = 2 * precision * recall / (precision + recall)\n",
    "    except ZeroDivisionError:\n",
    "        return 0,0,0\n",
    "    \n",
    "    return precision, recall, F1"
   ]
  },
  {
   "cell_type": "code",
   "execution_count": 13,
   "metadata": {
    "collapsed": false
   },
   "outputs": [],
   "source": [
    "def debug_x(ltable, rtable, label, predicted):\n",
    "    #label is golden data\n",
    "    for pos,res in enumerate(predicted):\n",
    "        #print the tuple of the left and right table that does not match with golden\n",
    "        if res != label[pos]:\n",
    "            print(\"ltable: \" + str(ltable[pos]))\n",
    "            print(\"rtable: \" + str(rtable[pos]))\n",
    "            print(\"Label: \" + str(label[pos]) + \" Predicted: \" + str(res))"
   ]
  },
  {
   "cell_type": "code",
   "execution_count": 14,
   "metadata": {
    "collapsed": false
   },
   "outputs": [],
   "source": [
    "# Test setx using the classifier = clf\n",
    "#verbose prints precision, recall, f1\n",
    "def clf_test(setx, clf, test_name='TEST', verbose=False, get_feature=get_feature, debug=False):\n",
    "    feature, label = get_feature(setx)\n",
    "    result = clf.predict(feature)               #classifier's built in function\n",
    "    precision, recall, F1 = get_F1(label, result)\n",
    "    \n",
    "    if debug:\n",
    "        debug_x(get_ltable(setx), get_rtable(setx), label, result)\n",
    "    \n",
    "    if verbose:\n",
    "        print()\n",
    "        print(test_name.upper())\n",
    "        print(\"Precision: \" + str(precision))\n",
    "        print(\"Recall: \" + str(recall))\n",
    "        print(\"F1: \" + str(F1))\n",
    "    \n",
    "    return precision, recall, F1"
   ]
  },
  {
   "cell_type": "code",
   "execution_count": 15,
   "metadata": {
    "collapsed": false
   },
   "outputs": [],
   "source": [
    "# Train and test on setx using the classifier = clf and k-fold validation = k\n",
    "# Return the average (precision, recall, F1)\n",
    "# clf : 'd' = DecisionTree, 'l' = Logistic Regression, 'r' = Random Forest, 's' = Support Vector Machine, 'n' = Naive Bayes\n",
    "def clf_train(setx, clf, k, verbose=False, get_feature=get_feature, debug=False):\n",
    "    if not clf in class_group:\n",
    "        print(\"ERROR: clf must be either = 'd', 'l', 'r', 's', 'n', 'l_svc'\")\n",
    "        return\n",
    "        \n",
    "    # Decision Tree Classifier using k-Fold = 4\n",
    "    split = 4\n",
    "    k_fold = KFold(n_splits=split)\n",
    "    total_precision = 0\n",
    "    total_recall = 0\n",
    "    total_F1 = 0\n",
    "    \n",
    "    #fold 1, fold 2, fold 3, fold 4\n",
    "    for train, test in k_fold.split(setx):\n",
    "         #what is this????????\n",
    "        train = setx[train[0]:train[-1] + 1]\n",
    "        test = setx[test[0]:test[-1] + 1]\n",
    "        feature, label = get_feature(train)\n",
    "        \n",
    "        clf_x = classifiers[clf]        \n",
    "        clf_x = clf_x.fit(feature, label)\n",
    "        \n",
    "        precision, recall, F1 = clf_test(test, clf_x, get_feature=get_feature, debug=debug)\n",
    "\n",
    "        total_precision += precision\n",
    "        total_recall += recall\n",
    "        total_F1 += F1\n",
    "        \n",
    "    precision = total_precision/split\n",
    "    recall = total_recall/split\n",
    "    F1 = total_F1/split\n",
    "    if verbose:\n",
    "        print()\n",
    "        print(names[clf] + \" CLASSIFIER\")\n",
    "        print(\"Precision: \" + str(precision))\n",
    "        print(\"Recall: \" + str(recall))\n",
    "        print(\"F1: \" + str(F1))\n",
    "    \n",
    "    return precision, recall, F1"
   ]
  },
  {
   "cell_type": "markdown",
   "metadata": {},
   "source": [
    "### Iteration 1 (Cross Validation)  \n",
    "\n",
    "* Use get_feature, instead of get_feature2  \n",
    "* Suppress duration and rating_count  \n",
    "* There's no year attributes in our setC.csv yet\n"
   ]
  },
  {
   "cell_type": "code",
   "execution_count": 16,
   "metadata": {
    "collapsed": false,
    "scrolled": true
   },
   "outputs": [
    {
     "name": "stdout",
     "output_type": "stream",
     "text": [
      "\n",
      "DECISION TREE CLASSIFIER\n",
      "Precision: 0.9479729729729729\n",
      "Recall: 0.9857142857142858\n",
      "F1: 0.9660087719298247\n"
     ]
    }
   ],
   "source": [
    "# Decision Tree Classifier using k-Fold = 4\n",
    "precision, recall, F1 = clf_train(setA, 'd', 4, verbose=True, get_feature=get_feature)"
   ]
  },
  {
   "cell_type": "code",
   "execution_count": 17,
   "metadata": {
    "collapsed": false
   },
   "outputs": [
    {
     "name": "stdout",
     "output_type": "stream",
     "text": [
      "\n",
      "LOGISTIC REGRESSION CLASSIFIER\n",
      "Precision: 0.9313452060931899\n",
      "Recall: 0.932016806722689\n",
      "F1: 0.929723850383709\n"
     ]
    }
   ],
   "source": [
    "# Logistic Regression Classifier using k-Fold = 4\n",
    "precision, recall, F1 = clf_train(setA, 'l', 4, verbose=True, get_feature=get_feature)"
   ]
  },
  {
   "cell_type": "code",
   "execution_count": 18,
   "metadata": {
    "collapsed": false
   },
   "outputs": [
    {
     "name": "stdout",
     "output_type": "stream",
     "text": [
      "\n",
      "RANDOM FOREST CLASSIFIER\n",
      "Precision: 0.9827586206896551\n",
      "Recall: 0.9714285714285714\n",
      "F1: 0.9759199134199135\n"
     ]
    }
   ],
   "source": [
    "# Random Forest Classifier using k-Fold = 4\n",
    "precision, recall, F1 = clf_train(setA, 'r', 4, verbose=True, get_feature=get_feature)"
   ]
  },
  {
   "cell_type": "code",
   "execution_count": 19,
   "metadata": {
    "collapsed": false
   },
   "outputs": [
    {
     "name": "stdout",
     "output_type": "stream",
     "text": [
      "\n",
      "SUPPORT VECTOR MACHING CLASSIFIER\n",
      "Precision: 1.0\n",
      "Recall: 0.8216931216931217\n",
      "F1: 0.8914576802507836\n"
     ]
    }
   ],
   "source": [
    "# Support Vector Machine Classifier using k-Fold = 4\n",
    "precision, recall, F1 = clf_train(setA, 's', 4, verbose=True, get_feature=get_feature)"
   ]
  },
  {
   "cell_type": "code",
   "execution_count": 20,
   "metadata": {
    "collapsed": false,
    "scrolled": true
   },
   "outputs": [
    {
     "name": "stdout",
     "output_type": "stream",
     "text": [
      "\n",
      "NAIVE BAYES CLASSIFIER\n",
      "Precision: 0.9232638888888889\n",
      "Recall: 0.9175210084033614\n",
      "F1: 0.918054433047314\n"
     ]
    }
   ],
   "source": [
    "# Naive Bayes Classifier using k-Fold = 4\n",
    "precision, recall, F1 = clf_train(setA, 'n', 4, verbose=True, get_feature=get_feature)"
   ]
  },
  {
   "cell_type": "markdown",
   "metadata": {},
   "source": [
    "## Debug Classifier\n",
    "Most classfiers return an F1-Score of 0.9 and above, the accuracy is consider high. When tested on the isolated evaluation set, the F1-Score is around 0.9 too. But, we will try to make the classifier even better.  \n",
    "\n",
    "Some things that we plan to look into are:  \n",
    "1) Conversion of data into feature vectors  \n",
    "2) Classifier that is used, we might be able to tweak the scikit classifier"
   ]
  },
  {
   "cell_type": "code",
   "execution_count": 21,
   "metadata": {
    "collapsed": true
   },
   "outputs": [],
   "source": [
    "#Debugging\n",
    "#Split development set into 2, namely i and j. Train on i, test on j\n",
    "def clf_train2(setx, clf, k, verbose=False, get_feature=get_feature, debug=False):\n",
    "    if not clf in class_group:\n",
    "        print(\"ERROR: clf must be either = 'd', 'l', 'r', 's', 'n','l_svc'\")\n",
    "        return\n",
    "        \n",
    "    # Decision Tree Classifier using k-Fold = 4\n",
    "#     split = 2 #ADDED by fzy\n",
    "#     k_fold = KFold(n_splits=split)\n",
    "    total_precision = 0\n",
    "    total_recall = 0\n",
    "    total_F1 = 0\n",
    "    half = int(len(setx)/2)\n",
    "    train = setx[:half]\n",
    "    test = setx[half:]\n",
    "    \n",
    "    #fold 1, fold 2, fold 3, fold 4\n",
    "#     for train, test in k_fold.split(setx):\n",
    "        #what is this????????\n",
    "#         train = setx[train[0]:train[-1] + 1]  #change this\n",
    "#         test = setx[test[0]:test[-1] + 1]     #change this\n",
    "#         break\n",
    "        \n",
    "    feature, label = get_feature(train)\n",
    "#     clf_x = None\n",
    "\n",
    "#     if clf == 'd':\n",
    "#         clf_x = tree.DecisionTreeClassifier()\n",
    "#     elif clf == 'l':\n",
    "#         clf_x = linear_model.LogisticRegression()\n",
    "#     elif clf == 'r':\n",
    "#         clf_x = ensemble.RandomForestClassifier()\n",
    "#     elif clf == 's':\n",
    "#         clf_x = svm.SVC()\n",
    "#     elif clf == 'n':\n",
    "#         clf_x = naive_bayes.GaussianNB()\n",
    "    \n",
    "    clf_x = classifiers[clf] \n",
    "    #pass in feature and label to the classifer\n",
    "    #warm start default to false\n",
    "    clf_x = clf_x.fit(feature, label)\n",
    "    #clf_x is an classifier that we have trained on training set\n",
    "    precision, recall, F1 = clf_test(test, clf_x, get_feature=get_feature, debug=debug)\n",
    "\n",
    "#     total_precision += precision\n",
    "#     total_recall += recall\n",
    "#     total_F1 += F1\n",
    "        \n",
    "#     precision = total_precision/split\n",
    "#     recall = total_recall/split\n",
    "#     F1 = total_F1/split\n",
    "    if verbose:\n",
    "        print()\n",
    "        print(names[clf] + \" CLASSIFIER\")\n",
    "        print(\"Precision: \" + str(precision))\n",
    "        print(\"Recall: \" + str(recall))\n",
    "        print(\"F1: \" + str(F1))\n",
    "    \n",
    "    return precision, recall, F1"
   ]
  },
  {
   "cell_type": "markdown",
   "metadata": {},
   "source": [
    "### Iteration 2 (Debugging)\n",
    "* Use get_feature, instead of get_feature2  \n",
    "* Suppress duration and rating_count  \n",
    "* There's no year attributes in our setC.csv yet"
   ]
  },
  {
   "cell_type": "code",
   "execution_count": 22,
   "metadata": {
    "collapsed": false
   },
   "outputs": [
    {
     "name": "stdout",
     "output_type": "stream",
     "text": [
      "\n",
      "DECISION TREE CLASSIFIER\n",
      "Precision: 0.8955223880597015\n",
      "Recall: 0.9836065573770492\n",
      "F1: 0.9375\n",
      "\n",
      "LOGISTIC REGRESSION CLASSIFIER\n",
      "Precision: 0.9344262295081968\n",
      "Recall: 0.9344262295081968\n",
      "F1: 0.9344262295081968\n",
      "\n",
      "RANDOM FOREST CLASSIFIER\n",
      "Precision: 0.9672131147540983\n",
      "Recall: 0.9672131147540983\n",
      "F1: 0.9672131147540983\n",
      "\n",
      "SUPPORT VECTOR MACHING CLASSIFIER\n",
      "Precision: 1.0\n",
      "Recall: 0.6065573770491803\n",
      "F1: 0.7551020408163265\n",
      "\n",
      "NAIVE BAYES CLASSIFIER\n",
      "Precision: 0.8769230769230769\n",
      "Recall: 0.9344262295081968\n",
      "F1: 0.9047619047619049\n"
     ]
    }
   ],
   "source": [
    "precision, recall, F1 = clf_train2(setA, 'd', 2, verbose=True, get_feature=get_feature, debug=False)\n",
    "precision, recall, F1 = clf_train2(setA, 'l', 2, verbose=True, get_feature=get_feature, debug=False)\n",
    "precision, recall, F1 = clf_train2(setA, 'r', 2, verbose=True, get_feature=get_feature, debug=False)\n",
    "precision, recall, F1 = clf_train2(setA, 's', 2, verbose=True, get_feature=get_feature, debug=False)\n",
    "precision, recall, F1 = clf_train2(setA, 'n', 2, verbose=True, get_feature=get_feature, debug=False)"
   ]
  },
  {
   "cell_type": "code",
   "execution_count": 23,
   "metadata": {
    "collapsed": false
   },
   "outputs": [],
   "source": [
    "import matplotlib.pyplot as plot\n",
    "from numpy import linspace as lins\n",
    "import math"
   ]
  },
  {
   "cell_type": "code",
   "execution_count": 24,
   "metadata": {
    "collapsed": false
   },
   "outputs": [
    {
     "data": {
      "image/png": "[encoded data removed]",
      "text/plain": [
       "<matplotlib.figure.Figure at 0x7f0268847dd8>"
      ]
     },
     "metadata": {},
     "output_type": "display_data"
    }
   ],
   "source": [
    "x = lins(0,1000)\n",
    "y = list(map(lambda x:math.sqrt(math.sqrt(x)), x))\n",
    "plot.plot(x,y)\n",
    "plot.show()"
   ]
  },
  {
   "cell_type": "markdown",
   "metadata": {},
   "source": [
    "### Changes Made\n",
    "\n",
    "* Inserted attribute \"Year\" into setC.csv  \n",
    "* Changed our feature for title  \n",
    "* Changed our feature for category  \n",
    "* Changed our feature for rating (Use squareroot)  \n",
    "* Changed our feature for director  \n",
    "* Changed our feature for rating_count (Although we suppress this feature and never use it since beginning)  \n",
    "* Changed our feature for duration  \n",
    "* Changed our feature for year  "
   ]
  },
  {
   "cell_type": "code",
   "execution_count": 25,
   "metadata": {
    "collapsed": false
   },
   "outputs": [],
   "source": [
    "#Recall that delim_tkn=DelimeterTokenizer()\n",
    "#Recall that delim_tok=DelimeterTokenizer(\",\")\n",
    "from math import exp\n",
    "\n",
    "\n",
    "def title_match2(x, y):\n",
    "    return lev.get_sim_score(x.lower(), y.lower())\n",
    "    \n",
    "def title_match3(x,y):                   #NEW\n",
    "    x=x.lower()\n",
    "    y=y.lower()\n",
    "    j=delim_tkn.tokenize(x)\n",
    "    k=delim_tkn.tokenize(y)\n",
    "    results=jac.get_raw_score(j,k)\n",
    "    return results\n",
    "\n",
    "##################################################\n",
    "def category_match2(x, y):\n",
    "    cat_x = x.split(',')\n",
    "    cat_y = y.split(',')\n",
    "    \n",
    "    count = 0\n",
    "    for i in cat_x:\n",
    "        for j in cat_y:\n",
    "            if i == j:\n",
    "                count += 1\n",
    "                return 1\n",
    "    return 0\n",
    "\n",
    "def category_match3(x,y):                      #NEW\n",
    "    x=x.lower()\n",
    "    y=y.lower()\n",
    "    if \"news\" in x and \"news\" not in y:\n",
    "        return -1\n",
    "    else:\n",
    "        j=delim_tok.tokenize(x)\n",
    "        k=delim_tok.tokenize(y)\n",
    "        results=jac.get_raw_score(j,k)\n",
    "        return results\n",
    "\n",
    "###############################################################    \n",
    "def rating_match2(x, y):\n",
    "    return math.sqrt(abs(float(x) - float(y)))\n",
    "######################################################################   \n",
    "def director_match2(x, y):\n",
    "    dir_x = x.split(',')\n",
    "    dir_y = x.split(',')\n",
    "    \n",
    "    count = 0\n",
    "    for i in dir_x:\n",
    "        for j in dir_y:\n",
    "            ii = i.strip().lower()\n",
    "            jj = j.strip().lower()\n",
    "            if ii and jj:\n",
    "                if lev.get_sim_score(ii,jj) > 0.9:\n",
    "                    count += 1\n",
    "                    return 1\n",
    "    return 0\n",
    "\n",
    "def director_match3(x,y):              #NEW                                         \n",
    "    x=x.lower()\n",
    "    y=y.lower()\n",
    "    j=delim_tok.tokenize(x)\n",
    "    k=delim_tok.tokenize(y)\n",
    "    results=jac.get_raw_score(j,k)\n",
    "    return results\n",
    "#############################################################################\n",
    "def rating_count_match2(x, y):\n",
    "    return math.sqrt(math.sqrt(abs(float(x) - float(y))))\n",
    "###################################################################\n",
    "def duration_match2(x, y):\n",
    "    if x == y:\n",
    "        return 1\n",
    "    return 0\n",
    "#       return math.sqrt(math.sqrt(abs(float(x) - float(y))))\n",
    "\n",
    "################################################################################\n",
    "def year_match2(x,y):\n",
    "    if x == y:                                                  #USE THIS\n",
    "        return 1\n",
    "    return 0\n",
    "\n",
    "    \n",
    "def year_match3(x, y):                        #NEW\n",
    "    return math.sqrt(math.sqrt(abs(int(x)-int(y))))             #DON'T USE THIS\n"
   ]
  },
  {
   "cell_type": "code",
   "execution_count": 26,
   "metadata": {
    "collapsed": true
   },
   "outputs": [],
   "source": [
    "# Given a set, return the feature vectors and label\n",
    "def get_feature2(setx):\n",
    "    feature = []\n",
    "    label = []\n",
    "    for row in setx:\n",
    "        label += [row[attr.label]]\n",
    "        \n",
    "        x_0 = title_match3(row[attr.ltable_Title], row[attr.rtable_Title])\n",
    "        x_1 = category_match3(row[attr.ltable_Category], row[attr.rtable_Category])\n",
    "        x_2 = rating_match2(row[attr.ltable_Rating], row[attr.rtable_Rating])     \n",
    "        x_3 = director_match3(row[attr.ltable_Director], row[attr.rtable_Director])\n",
    "        x_4 = duration_match2(row[attr.ltable_Duration], row[attr.rtable_Duration])\n",
    "        x_5 = rating_count_match2(row[attr.ltable_Rating_Count], row[attr.rtable_Rating_Count])   #Suppress\n",
    "        x_6 = year_match2(row[attr.ltable_Year], row[attr.rtable_Year])\n",
    "        \n",
    "        #feature += [[x_0, x_1, x_2, x_3, x_4, x_6]]  #suppress rating count\n",
    "        feature += [[x_0, x_1, x_3, x_4, x_6]]        #suppress rating and rating count\n",
    "        \n",
    "    return feature, label\n",
    "    "
   ]
  },
  {
   "cell_type": "markdown",
   "metadata": {},
   "source": [
    "### Iteration 3 (Cross Validation)\n",
    "* Now setC.csv has year attribute in it\n",
    "* Suppress rating_count\n",
    "* Use title_match2\n",
    "* Use category_match2\n",
    "* Use rating_match2\n",
    "* Use director_match2\n",
    "* Use duration_match2\n",
    "* Use year_match2"
   ]
  },
  {
   "cell_type": "code",
   "execution_count": 27,
   "metadata": {
    "collapsed": false,
    "scrolled": true
   },
   "outputs": [
    {
     "name": "stdout",
     "output_type": "stream",
     "text": [
      "\n",
      "DECISION TREE CLASSIFIER\n",
      "Precision: 0.968013468013468\n",
      "Recall: 0.955026455026455\n",
      "F1: 0.9613289760348583\n",
      "\n",
      "LOGISTIC REGRESSION CLASSIFIER\n",
      "Precision: 0.9832417582417583\n",
      "Recall: 0.9596327419856832\n",
      "F1: 0.971130441885159\n",
      "\n",
      "RANDOM FOREST CLASSIFIER\n",
      "Precision: 0.9764550264550265\n",
      "Recall: 0.9617491441020853\n",
      "F1: 0.9688792688792689\n",
      "\n",
      "SUPPORT VECTOR MACHING CLASSIFIER\n",
      "Precision: 0.9820512820512821\n",
      "Recall: 0.9239184562713975\n",
      "F1: 0.9513502221049391\n",
      "\n",
      "NAIVE BAYES CLASSIFIER\n",
      "Precision: 0.9655830280830281\n",
      "Recall: 0.9833877995642701\n",
      "F1: 0.9742092055351772\n"
     ]
    }
   ],
   "source": [
    "# Debug Classifiers using k-Fold = 4\n",
    "\n",
    "#Suppress rating_count\n",
    "#Use title_match2,category_match2,rating_match2, director_match2,duration_match2, year_match2\n",
    "precision, recall, F1 = clf_train(setA, 'd', 4, verbose=True, get_feature=get_feature2, debug=False)\n",
    "precision, recall, F1 = clf_train(setA, 'l', 4, verbose=True, get_feature=get_feature2, debug=False)\n",
    "precision, recall, F1 = clf_train(setA, 'r', 4, verbose=True, get_feature=get_feature2, debug=False)\n",
    "precision, recall, F1 = clf_train(setA, 's', 4, verbose=True, get_feature=get_feature2, debug=False)\n",
    "precision, recall, F1 = clf_train(setA, 'n', 4, verbose=True, get_feature=get_feature2, debug=False)"
   ]
  },
  {
   "cell_type": "markdown",
   "metadata": {},
   "source": [
    "### Iteration 4 (Debugging)\n",
    "* Suppress rating_count\n",
    "* Use title_match2\n",
    "* Use category_match2\n",
    "* Use rating_match2\n",
    "* Use director_match2\n",
    "* Use duration_match2\n",
    "* Use year_match2"
   ]
  },
  {
   "cell_type": "code",
   "execution_count": 28,
   "metadata": {
    "collapsed": false
   },
   "outputs": [
    {
     "name": "stdout",
     "output_type": "stream",
     "text": [
      "\n",
      "DECISION TREE CLASSIFIER\n",
      "Precision: 0.9166666666666666\n",
      "Recall: 0.9016393442622951\n",
      "F1: 0.9090909090909091\n",
      "\n",
      "LOGISTIC REGRESSION CLASSIFIER\n",
      "Precision: 0.9666666666666667\n",
      "Recall: 0.9508196721311475\n",
      "F1: 0.9586776859504132\n",
      "\n",
      "RANDOM FOREST CLASSIFIER\n",
      "Precision: 0.9032258064516129\n",
      "Recall: 0.9180327868852459\n",
      "F1: 0.9105691056910569\n",
      "\n",
      "SUPPORT VECTOR MACHING CLASSIFIER\n",
      "Precision: 0.9827586206896551\n",
      "Recall: 0.9344262295081968\n",
      "F1: 0.9579831932773109\n",
      "\n",
      "NAIVE BAYES CLASSIFIER\n",
      "Precision: 0.9384615384615385\n",
      "Recall: 1.0\n",
      "F1: 0.9682539682539683\n"
     ]
    }
   ],
   "source": [
    "precision, recall, F1 = clf_train2(setA, 'd', 2, verbose=True, get_feature=get_feature2, debug=False)\n",
    "precision, recall, F1 = clf_train2(setA, 'l', 2, verbose=True, get_feature=get_feature2, debug=False)\n",
    "precision, recall, F1 = clf_train2(setA, 'r', 2, verbose=True, get_feature=get_feature2, debug=False)\n",
    "precision, recall, F1 = clf_train2(setA, 's', 2, verbose=True, get_feature=get_feature2, debug=False)\n",
    "precision, recall, F1 = clf_train2(setA, 'n', 2, verbose=True, get_feature=get_feature2, debug=False)"
   ]
  },
  {
   "cell_type": "markdown",
   "metadata": {},
   "source": [
    "### Changes Made\n",
    "* Suppress rating and rating_count\n",
    "* Use title_match3\n",
    "* Use category_match3\n",
    "* Use director_match3\n",
    "* Use duration_match2\n",
    "* Use year_match2\n",
    "* Introduced new learning algorithm called Linear Support Vector Classification"
   ]
  },
  {
   "cell_type": "markdown",
   "metadata": {},
   "source": [
    "### Iteration 5 (Cross Validation) \n",
    "* Suppress rating and rating_count\n",
    "* **Use title_match3**\n",
    "* **Use category_match3**\n",
    "* **Use director_match3**\n",
    "* Use duration_match2\n",
    "* Use year_match2\n",
    "* Introduced new learning algorithm called Linear Support Vector Classification"
   ]
  },
  {
   "cell_type": "code",
   "execution_count": 29,
   "metadata": {
    "collapsed": false
   },
   "outputs": [
    {
     "name": "stdout",
     "output_type": "stream",
     "text": [
      "\n",
      "DECISION TREE CLASSIFIER\n",
      "Precision: 0.9751157407407407\n",
      "Recall: 0.955026455026455\n",
      "F1: 0.964621337755666\n",
      "\n",
      "LOGISTIC REGRESSION CLASSIFIER\n",
      "Precision: 0.9832417582417583\n",
      "Recall: 0.9596327419856832\n",
      "F1: 0.971130441885159\n",
      "\n",
      "RANDOM FOREST CLASSIFIER\n",
      "Precision: 0.9835978835978836\n",
      "Recall: 0.9835978835978836\n",
      "F1: 0.9835978835978836\n",
      "\n",
      "SUPPORT VECTOR MACHING CLASSIFIER\n",
      "Precision: 0.9820512820512821\n",
      "Recall: 0.9239184562713975\n",
      "F1: 0.9513502221049391\n",
      "\n",
      "NAIVE BAYES CLASSIFIER\n",
      "Precision: 0.9655830280830281\n",
      "Recall: 0.9833877995642701\n",
      "F1: 0.9742092055351772\n",
      "\n",
      "LINEAR SUPPORT VECTOR CLASSIFICATION CLASSIFIER\n",
      "Precision: 0.9835978835978836\n",
      "Recall: 0.9688920012449425\n",
      "F1: 0.976022126022126\n"
     ]
    }
   ],
   "source": [
    "#Suppress rating_count and rating\n",
    "\n",
    "precision, recall, F1 = clf_train(setA, 'd', 4, verbose=True, get_feature=get_feature2, debug=False)\n",
    "precision, recall, F1 = clf_train(setA, 'l', 4, verbose=True, get_feature=get_feature2, debug=False)\n",
    "precision, recall, F1 = clf_train(setA, 'r', 4, verbose=True, get_feature=get_feature2, debug=False)\n",
    "precision, recall, F1 = clf_train(setA, 's', 4, verbose=True, get_feature=get_feature2, debug=False)\n",
    "precision, recall, F1 = clf_train(setA, 'n', 4, verbose=True, get_feature=get_feature2, debug=False)\n",
    "precision, recall, F1 = clf_train(setA, 'l_svc', 4, verbose=True, get_feature=get_feature2, debug=False)"
   ]
  },
  {
   "cell_type": "markdown",
   "metadata": {},
   "source": [
    "### Iteration 6 (Debugging)\n",
    "* Suppress rating and rating_count\n",
    "* **Use title_match3**\n",
    "* **Use category_match3**\n",
    "* **Use director_match3**\n",
    "* Use duration_match2\n",
    "* Use year_match2\n",
    "* Introduced new learning algorithm called Linear Support Vector Classification"
   ]
  },
  {
   "cell_type": "code",
   "execution_count": 30,
   "metadata": {
    "collapsed": false
   },
   "outputs": [
    {
     "name": "stdout",
     "output_type": "stream",
     "text": [
      "\n",
      "DECISION TREE CLASSIFIER\n",
      "Precision: 0.9166666666666666\n",
      "Recall: 0.9016393442622951\n",
      "F1: 0.9090909090909091\n",
      "\n",
      "LOGISTIC REGRESSION CLASSIFIER\n",
      "Precision: 0.9666666666666667\n",
      "Recall: 0.9508196721311475\n",
      "F1: 0.9586776859504132\n",
      "ltable: ['7633', 'Grudge Match', 'Comedy,Sport', '113', '64', '47183', 'Peter Segal', '2013']\n",
      "rtable: ['8541', 'Grudge Match', 'Comedy,Drama,Sports,Fitness', '113', '64', '35912', 'Peter Segal,', '2013']\n",
      "Label: 1 Predicted: 0\n",
      "ltable: ['19076', 'Phantom of the Paradise', 'Comedy,Drama,Fantasy', '92', '74', '11358', 'Brian De Palma', '1974']\n",
      "rtable: ['16198', 'Phantom of the Paradise', 'Classics,Comedy,Cult Movies,Horror,Musical,Performing Arts', '91', '78', '9911', 'Brian DePalma,', '1974']\n",
      "Label: 1 Predicted: 0\n",
      "ltable: ['13888', 'Starman', 'Romance,Sci-Fi', '115', '70', '33597', 'John Carpenter', '1984']\n",
      "rtable: ['8208', 'Starman', 'Drama,Science Fiction,Fantasy,Romance', '115', '66', '24445', 'John Carpenter,', '1984']\n",
      "Label: 1 Predicted: 0\n",
      "ltable: ['16136', 'Katy Perry: Part of Me', 'Documentary,Musical', '93', '59', '12440', 'Dan Cutforth,Jane Lipsitz', '2012']\n",
      "rtable: ['11957', 'Katy Perry: Part Of Me Fan Sneaks', 'Documentary', 0, '92', '72', 'Dan Cutforth,Jane Lipsitz,', '2012']\n",
      "Label: 0 Predicted: 1\n",
      "ltable: ['21448', 'Megamind', 'Animation,Television', '0', 0, 0, '', '2010']\n",
      "rtable: ['4077', 'Megamind', 'Action,Adventure,Animation,Comedy,Kids,Family', '96', '76', '207608', 'Tom McGrath,', '2010']\n",
      "Label: 1 Predicted: 0\n",
      "\n",
      "RANDOM FOREST CLASSIFIER\n",
      "Precision: 0.9827586206896551\n",
      "Recall: 0.9344262295081968\n",
      "F1: 0.9579831932773109\n",
      "\n",
      "SUPPORT VECTOR MACHING CLASSIFIER\n",
      "Precision: 0.9827586206896551\n",
      "Recall: 0.9344262295081968\n",
      "F1: 0.9579831932773109\n",
      "\n",
      "NAIVE BAYES CLASSIFIER\n",
      "Precision: 0.9384615384615385\n",
      "Recall: 1.0\n",
      "F1: 0.9682539682539683\n",
      "ltable: ['16136', 'Katy Perry: Part of Me', 'Documentary,Musical', '93', '59', '12440', 'Dan Cutforth,Jane Lipsitz', '2012']\n",
      "rtable: ['11957', 'Katy Perry: Part Of Me Fan Sneaks', 'Documentary', 0, '92', '72', 'Dan Cutforth,Jane Lipsitz,', '2012']\n",
      "Label: 0 Predicted: 1\n",
      "\n",
      "LINEAR SUPPORT VECTOR CLASSIFICATION CLASSIFIER\n",
      "Precision: 0.9838709677419355\n",
      "Recall: 1.0\n",
      "F1: 0.991869918699187\n"
     ]
    }
   ],
   "source": [
    "precision, recall, F1 = clf_train2(setA, 'd', 2, verbose=True, get_feature=get_feature2, debug=False)\n",
    "precision, recall, F1 = clf_train2(setA, 'l', 2, verbose=True, get_feature=get_feature2, debug=False)\n",
    "precision, recall, F1 = clf_train2(setA, 'r', 2, verbose=True, get_feature=get_feature2, debug=True)\n",
    "precision, recall, F1 = clf_train2(setA, 's', 2, verbose=True, get_feature=get_feature2, debug=False)\n",
    "precision, recall, F1 = clf_train2(setA, 'n', 2, verbose=True, get_feature=get_feature2, debug=False)\n",
    "precision, recall, F1 = clf_train2(setA, 'l_svc', 2, verbose=True, get_feature=get_feature2, debug=True)"
   ]
  },
  {
   "cell_type": "markdown",
   "metadata": {},
   "source": [
    "### Changes Made\n",
    "**No Changes Made**"
   ]
  },
  {
   "cell_type": "code",
   "execution_count": 31,
   "metadata": {
    "collapsed": false
   },
   "outputs": [],
   "source": [
    "# # Debug on only random forest\n",
    "# clf = svm.LinearSVC()\n",
    "# train,test = setA[:225], setA[225:]\n",
    "# feature, label = get_feature2(train)\n",
    "# clf.fit(feature, label)\n",
    "# print(\"Linear Support Vector Classification weights\")\n",
    "# # Result shows that weights are mostly place on \"Title\", \"Director\", \"Rating\", \"Duration\"\n",
    "# # \"Title\" \"Category\" \"Rating\" \"Director\" \"Duration\" \"Rating Count\"\n",
    "# #print(path_x)\n",
    "# precision, recall, F1 = clf_test(test, clf, \"Linear Support Vector Test\", get_feature=get_feature2, verbose=True, debug=True)"
   ]
  },
  {
   "cell_type": "markdown",
   "metadata": {},
   "source": [
    "## Computing the accuracy of the best matcher: Linear Support Vector Classification\n",
    "We train the matcher on the development set and test it on the evaluation set that we haven't use until now."
   ]
  },
  {
   "cell_type": "code",
   "execution_count": 32,
   "metadata": {
    "collapsed": false
   },
   "outputs": [
    {
     "name": "stdout",
     "output_type": "stream",
     "text": [
      "\n",
      "FINAL CLASSIFIER EVALUATION(LINEAR SUPPORT VECTOR CLASSIFICATION)\n",
      "Precision: 1.0\n",
      "Recall: 1.0\n",
      "F1: 1.0\n"
     ]
    }
   ],
   "source": [
    "# Final Classifier\n",
    "clf = svm.LinearSVC() \n",
    "feature, label = get_feature2(setA)\n",
    "clf = clf.fit(feature, label)\n",
    "precision, recall, F1 = clf_test(setB, clf, \"Final Classifier Evaluation(Linear Support Vector Classification)\", get_feature=get_feature2, verbose=True, debug=True)"
   ]
  },
  {
   "cell_type": "markdown",
   "metadata": {},
   "source": [
    "Train all other matchers on the development set and test it on the evaluation set."
   ]
  },
  {
   "cell_type": "code",
   "execution_count": 33,
   "metadata": {
    "collapsed": false
   },
   "outputs": [
    {
     "name": "stdout",
     "output_type": "stream",
     "text": [
      "ltable: ['7575', 'Ice Age: Continental Drift', 'News', '30', 0, 0, '', '2012']\n",
      "rtable: ['1181', 'Ice Age: Continental Drift', 'Action,Adventure,Animation,Comedy,Kids,Family', '87', '72', '150866', 'Michael Thurmeier,Steve Martino,', '2012']\n",
      "Label: 0 Predicted: 1\n",
      "ltable: ['3497', 'How to Train Your Dragon 2', 'Animation,Action,Adventure', '102', '79', '225231', 'Dean DeBlois', '2014']\n",
      "rtable: ['2917', 'How to Train Your Dragon', 'Animation,Kids,Family,Science Fiction,Fantasy', '98', '84', '310257', 'Dean DeBlois,Chris Sanders,', '2010']\n",
      "Label: 0 Predicted: 1\n",
      "ltable: ['8693', 'The Game Plan', 'Comedy,Drama', '45', 0, 0, '', '2016']\n",
      "rtable: ['1120', 'The Game Plan', 'Comedy', '110', '70', '406721', 'Andy Fickman,', '2007']\n",
      "Label: 0 Predicted: 1\n",
      "\n",
      "CLASSIFIER EVALUATION(DECISION TREE)\n",
      "Precision: 0.9117647058823529\n",
      "Recall: 1.0\n",
      "F1: 0.9538461538461539\n"
     ]
    }
   ],
   "source": [
    "#Decision Tree\n",
    "clf =tree.DecisionTreeClassifier()\n",
    "feature, label = get_feature2(setA)\n",
    "clf = clf.fit(feature, label)\n",
    "precision, recall, F1 = clf_test(setB, clf, \"Classifier Evaluation(Decision Tree)\", get_feature=get_feature2, verbose=True, debug=True)"
   ]
  },
  {
   "cell_type": "code",
   "execution_count": 34,
   "metadata": {
    "collapsed": false
   },
   "outputs": [
    {
     "name": "stdout",
     "output_type": "stream",
     "text": [
      "\n",
      "CLASSIFIER EVALUATION(LOGISTIC REGRESSION CLASSIFIER)\n",
      "Precision: 1.0\n",
      "Recall: 1.0\n",
      "F1: 1.0\n"
     ]
    }
   ],
   "source": [
    "#Logistic Regression\n",
    "clf=linear_model.LogisticRegression()\n",
    "feature, label = get_feature2(setA)\n",
    "clf = clf.fit(feature, label)\n",
    "precision, recall, F1 = clf_test(setB, clf, \"Classifier Evaluation(Logistic Regression Classifier)\", get_feature=get_feature2, verbose=True, debug=True)"
   ]
  },
  {
   "cell_type": "code",
   "execution_count": 35,
   "metadata": {
    "collapsed": false
   },
   "outputs": [
    {
     "name": "stdout",
     "output_type": "stream",
     "text": [
      "ltable: ['7575', 'Ice Age: Continental Drift', 'News', '30', 0, 0, '', '2012']\n",
      "rtable: ['1181', 'Ice Age: Continental Drift', 'Action,Adventure,Animation,Comedy,Kids,Family', '87', '72', '150866', 'Michael Thurmeier,Steve Martino,', '2012']\n",
      "Label: 0 Predicted: 1\n",
      "ltable: ['8693', 'The Game Plan', 'Comedy,Drama', '45', 0, 0, '', '2016']\n",
      "rtable: ['1120', 'The Game Plan', 'Comedy', '110', '70', '406721', 'Andy Fickman,', '2007']\n",
      "Label: 0 Predicted: 1\n",
      "\n",
      "CLASSIFIER EVALUATION(RANDOM FOREST CLASSIFIER)\n",
      "Precision: 0.9393939393939394\n",
      "Recall: 1.0\n",
      "F1: 0.96875\n"
     ]
    }
   ],
   "source": [
    "#Random Forest\n",
    "\n",
    "clf=ensemble.RandomForestClassifier()\n",
    "feature, label = get_feature2(setA)\n",
    "clf = clf.fit(feature, label)\n",
    "precision, recall, F1 = clf_test(setB, clf, \"Classifier Evaluation(Random Forest Classifier)\", get_feature=get_feature2, verbose=True, debug=True)"
   ]
  },
  {
   "cell_type": "code",
   "execution_count": 36,
   "metadata": {
    "collapsed": false
   },
   "outputs": [
    {
     "name": "stdout",
     "output_type": "stream",
     "text": [
      "\n",
      "CLASSIFIER EVALUATION(SUPPORT VECTOR MACHINE CLASSIFIER)\n",
      "Precision: 1.0\n",
      "Recall: 1.0\n",
      "F1: 1.0\n"
     ]
    }
   ],
   "source": [
    "#Support Vector Machine\n",
    "clf=svm.SVC()\n",
    "feature, label = get_feature2(setA)\n",
    "clf = clf.fit(feature, label)\n",
    "precision, recall, F1 = clf_test(setB, clf, \"Classifier Evaluation(Support Vector Machine Classifier)\", get_feature=get_feature2, verbose=True, debug=True)"
   ]
  },
  {
   "cell_type": "code",
   "execution_count": 37,
   "metadata": {
    "collapsed": false
   },
   "outputs": [
    {
     "name": "stdout",
     "output_type": "stream",
     "text": [
      "ltable: ['7575', 'Ice Age: Continental Drift', 'News', '30', 0, 0, '', '2012']\n",
      "rtable: ['1181', 'Ice Age: Continental Drift', 'Action,Adventure,Animation,Comedy,Kids,Family', '87', '72', '150866', 'Michael Thurmeier,Steve Martino,', '2012']\n",
      "Label: 0 Predicted: 1\n",
      "\n",
      "CLASSIFIER EVALUATION(NAIVE BAYES CLASSIFIER)\n",
      "Precision: 0.96875\n",
      "Recall: 1.0\n",
      "F1: 0.9841269841269841\n"
     ]
    }
   ],
   "source": [
    "#Naive Bayes\n",
    "clf=naive_bayes.GaussianNB()\n",
    "feature, label = get_feature2(setA)\n",
    "clf = clf.fit(feature, label)\n",
    "precision, recall, F1 = clf_test(setB, clf, \"Classifier Evaluation(Naive Bayes Classifier)\", get_feature=get_feature2, verbose=True, debug=True)"
   ]
  },
  {
   "cell_type": "markdown",
   "metadata": {},
   "source": [
    "## Train on all golden data and match on all the data"
   ]
  },
  {
   "cell_type": "code",
   "execution_count": 50,
   "metadata": {
    "collapsed": false
   },
   "outputs": [],
   "source": [
    "setC=None\n",
    "goldenData=None\n",
    "with open('setC_year.csv','r')as file:    #all data that we get after blocking\n",
    "    setC=list(csv.reader(file))\n",
    "with open('labelled_year.csv','r')as file:   #labelled data\n",
    "    goldenData=list(csv.reader(file))\n",
    "    goldenData=goldenData[1:]   #remove header"
   ]
  },
  {
   "cell_type": "code",
   "execution_count": 51,
   "metadata": {
    "collapsed": true
   },
   "outputs": [],
   "source": [
    "#FILL IN NULL VALUES for golden Data\n",
    "fill_null(goldenData, attr.ltable_Rating, 0)\n",
    "fill_null(goldenData, attr.rtable_Rating, 0)\n",
    "fill_null(goldenData, attr.ltable_Duration, 0)\n",
    "fill_null(goldenData, attr.rtable_Duration, 0)\n",
    "fill_null(goldenData, attr.ltable_Rating_Count, 0)\n",
    "fill_null(goldenData, attr.rtable_Rating_Count, 0)\n",
    "fill_null(goldenData, attr.ltable_Year, 0)\n",
    "fill_null(goldenData, attr.rtable_Year, 0)\n",
    "####################\n",
    "#FILL IN NULL VALUES for setC\n",
    "fill_null(setC, attr.ltable_Rating-1, 0)\n",
    "fill_null(setC, attr.rtable_Rating-1, 0)\n",
    "fill_null(setC, attr.ltable_Duration-1, 0)\n",
    "fill_null(setC, attr.rtable_Duration-1, 0)\n",
    "fill_null(setC, attr.ltable_Rating_Count-1, 0)\n",
    "fill_null(setC, attr.rtable_Rating_Count-1, 0)\n",
    "fill_null(setC, attr.ltable_Year-1, 0)\n",
    "fill_null(setC, attr.rtable_Year-1, 0)"
   ]
  },
  {
   "cell_type": "code",
   "execution_count": 52,
   "metadata": {
    "collapsed": true
   },
   "outputs": [],
   "source": [
    "#features for setC.csv (WITHOUT LABEL!!!)\n",
    "def get_feature3(setx):\n",
    "    feature = []\n",
    "    for row in setx:\n",
    "        \n",
    "        \n",
    "        x_0 = title_match3(row[attr.ltable_Title-1], row[attr.rtable_Title-1])\n",
    "        x_1 = category_match3(row[attr.ltable_Category-1], row[attr.rtable_Category-1])\n",
    "        x_2 = rating_match2(row[attr.ltable_Rating-1], row[attr.rtable_Rating-1])     \n",
    "        x_3 = director_match3(row[attr.ltable_Director-1], row[attr.rtable_Director-1])\n",
    "        x_4 = duration_match2(row[attr.ltable_Duration-1], row[attr.rtable_Duration-1])\n",
    "        x_5 = rating_count_match2(row[attr.ltable_Rating_Count-1], row[attr.rtable_Rating_Count-1])   #Suppress\n",
    "        x_6 = year_match2(row[attr.ltable_Year-1], row[attr.rtable_Year-1])\n",
    "        \n",
    "        #feature += [[x_0, x_1, x_2, x_3, x_4, x_6]]  #suppress rating count\n",
    "        feature += [[x_0, x_1, x_3, x_4, x_6]]        #suppress rating and rating count\n",
    "        \n",
    "    return feature"
   ]
  },
  {
   "cell_type": "code",
   "execution_count": 62,
   "metadata": {
    "collapsed": false,
    "scrolled": true
   },
   "outputs": [],
   "source": [
    "matched_csv_attributes=['id','ltable_id','rtable_id','ltable_title','ltable_category','ltable_duration','ltable_rating','ltable_ratingCount','ltable_director','ltable_year','rtable_title','rtable_category','rtable_duration','rtable_rating','rtable_ratingCount','rtable_director','rtable_year']\n",
    "with open('matched.csv','w',newline='')as csvfile:\n",
    "    csv_writer=csv.writer(csvfile)\n",
    "    csv_writer.writerow(matched_csv_attributes)\n",
    "clf = svm.LinearSVC() \n",
    "feature1, label = get_feature2(goldenData)   #Recall that golden data has labels\n",
    "clf = clf.fit(feature1, label)\n",
    "feature2=get_feature3(setC)\n",
    "results=clf.predict(feature2)\n",
    "for pos, res in enumerate(results):\n",
    "    if res=='1':\n",
    "        with open('matched.csv','a',newline='')as csvfile:\n",
    "            csv_writer=csv.writer(csvfile)\n",
    "            csv_writer.writerow(setC[pos])"
   ]
  }
 ],
 "metadata": {
  "anaconda-cloud": {},
  "kernelspec": {
   "display_name": "Python [default]",
   "language": "python",
   "name": "python3"
  },
  "language_info": {
   "codemirror_mode": {
    "name": "ipython",
    "version": 3
   },
   "file_extension": ".py",
   "mimetype": "text/x-python",
   "name": "python",
   "nbconvert_exporter": "python",
   "pygments_lexer": "ipython3",
   "version": "3.5.2"
  }
 },
 "nbformat": 4,
 "nbformat_minor": 1
}
